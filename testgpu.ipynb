{
 "cells": [
  {
   "cell_type": "code",
   "id": "initial_id",
   "metadata": {
    "collapsed": true,
    "ExecuteTime": {
     "end_time": "2025-09-16T16:14:46.366118Z",
     "start_time": "2025-09-16T16:14:45.306842Z"
    }
   },
   "source": [
    "import torch\n",
    "import sys\n",
    "\n",
    "print(f\"Python Version: {sys.version}\")\n",
    "print(f\"PyTorch Version: {torch.__version__}\")\n",
    "print(\"-\" * 30)\n",
    "\n",
    "# 1. Check if CUDA is available\n",
    "is_available = torch.cuda.is_available()\n",
    "print(f\"CUDA available: {is_available}\")\n",
    "\n",
    "if is_available:\n",
    "    # 2. Get the number of available GPUs\n",
    "    gpu_count = torch.cuda.device_count()\n",
    "    print(f\"Number of GPUs: {gpu_count}\")\n",
    "\n",
    "    # 3. Get the name of the current GPU\n",
    "    current_gpu_name = torch.cuda.get_device_name(torch.cuda.current_device())\n",
    "    print(f\"Current GPU Name: {current_gpu_name}\")\n",
    "    print(\"-\" * 30)\n",
    "\n",
    "    # 4. Perform a simple test operation on the GPU\n",
    "    print(\"Performing a simple tensor operation on the GPU...\")\n",
    "    try:\n",
    "        # Create a tensor and move it to the GPU\n",
    "        tensor = torch.tensor([1.0, 2.0, 3.0], device='cuda')\n",
    "\n",
    "        # Perform an operation\n",
    "        result = tensor * 2\n",
    "\n",
    "        # Print the tensor and its device to confirm it's on the GPU\n",
    "        print(\"Test Tensor:\", result)\n",
    "        print(\"Tensor Device:\", result.device)\n",
    "        print(\"\\n✅ Success! Your PyTorch and GPU setup is working correctly.\")\n",
    "    except Exception as e:\n",
    "        print(f\"\\n❌ An error occurred during the GPU test: {e}\")\n",
    "else:\n",
    "    print(\"\\n❌ PyTorch cannot find a CUDA-enabled GPU. Please check your installation.\")"
   ],
   "outputs": [
    {
     "name": "stdout",
     "output_type": "stream",
     "text": [
      "Python Version: 3.12.3 (main, Aug 14 2025, 17:47:21) [GCC 13.3.0]\n",
      "PyTorch Version: 2.8.0+cu126\n",
      "------------------------------\n",
      "CUDA available: True\n",
      "Number of GPUs: 1\n",
      "Current GPU Name: NVIDIA GeForce RTX 3060\n",
      "------------------------------\n",
      "Performing a simple tensor operation on the GPU...\n",
      "Test Tensor: tensor([2., 4., 6.], device='cuda:0')\n",
      "Tensor Device: cuda:0\n",
      "\n",
      "✅ Success! Your PyTorch and GPU setup is working correctly.\n"
     ]
    }
   ],
   "execution_count": 1
  }
 ],
 "metadata": {
  "kernelspec": {
   "display_name": "Python 3",
   "language": "python",
   "name": "python3"
  },
  "language_info": {
   "codemirror_mode": {
    "name": "ipython",
    "version": 2
   },
   "file_extension": ".py",
   "mimetype": "text/x-python",
   "name": "python",
   "nbconvert_exporter": "python",
   "pygments_lexer": "ipython2",
   "version": "2.7.6"
  }
 },
 "nbformat": 4,
 "nbformat_minor": 5
}
